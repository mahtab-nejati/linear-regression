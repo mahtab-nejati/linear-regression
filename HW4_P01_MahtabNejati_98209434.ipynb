{
 "cells": [
  {
   "cell_type": "markdown",
   "metadata": {},
   "source": [
    "# Mahtab Nejati\n",
    "# 98209434\n",
    "# Problem 01"
   ]
  },
  {
   "cell_type": "code",
   "execution_count": 1,
   "metadata": {},
   "outputs": [],
   "source": [
    "import numpy as np\n",
    "import matplotlib.pyplot as plt\n",
    "from sklearn.model_selection import train_test_split"
   ]
  },
  {
   "cell_type": "markdown",
   "metadata": {},
   "source": [
    "## 1. Load in data"
   ]
  },
  {
   "cell_type": "code",
   "execution_count": 2,
   "metadata": {},
   "outputs": [],
   "source": [
    "data = np.loadtxt('q1.txt',delimiter=',')"
   ]
  },
  {
   "cell_type": "markdown",
   "metadata": {},
   "source": [
    "## 2. Split data into train and test with a 3:1 ratio"
   ]
  },
  {
   "cell_type": "code",
   "execution_count": 3,
   "metadata": {},
   "outputs": [],
   "source": [
    "x_train, x_test, y_train, y_test = train_test_split(data[:,0], data[:,1], test_size=0.25)"
   ]
  },
  {
   "cell_type": "markdown",
   "metadata": {},
   "source": [
    "## 3. Scatter plot of training data"
   ]
  },
  {
   "cell_type": "code",
   "execution_count": 4,
   "metadata": {},
   "outputs": [
    {
     "data": {
      "image/png": "[encoded data removed]",
      "text/plain": [
       "<Figure size 432x288 with 1 Axes>"
      ]
     },
     "metadata": {
      "needs_background": "light"
     },
     "output_type": "display_data"
    }
   ],
   "source": [
    "plt.scatter(x=x_train, y=y_train, color='green')\n",
    "plt.title(\"Revenue to Population\")\n",
    "plt.xlabel(\"Population\")\n",
    "plt.ylabel(\"Revenue\")\n",
    "plt.show()"
   ]
  },
  {
   "cell_type": "markdown",
   "metadata": {},
   "source": [
    "## 4.1. Training the model"
   ]
  },
  {
   "cell_type": "code",
   "execution_count": 5,
   "metadata": {},
   "outputs": [],
   "source": [
    "def hypothesis(theta,X):\n",
    "    return np.matmul(X,theta).reshape(X.shape[0],1)"
   ]
  },
  {
   "cell_type": "code",
   "execution_count": 6,
   "metadata": {},
   "outputs": [],
   "source": [
    "def update(theta,alpha,m,n,hypo,X,y):\n",
    "    new_theta = theta.copy()\n",
    "    new_theta[0] = theta[0] - (alpha/m) * sum(hypo - y)\n",
    "    for i in range(1,n+1):\n",
    "        new_theta[i] = theta[i] - (alpha/m) * sum((hypo-y) * X[:,i].reshape(X.shape[0],1))\n",
    "    return new_theta"
   ]
  },
  {
   "cell_type": "code",
   "execution_count": 7,
   "metadata": {},
   "outputs": [],
   "source": [
    "def cost_function(hypo,y):\n",
    "    return 0.5*np.mean((hypo - y)**2)"
   ]
  },
  {
   "cell_type": "code",
   "execution_count": 8,
   "metadata": {},
   "outputs": [],
   "source": [
    "def gradient_descent(theta,alpha,X,y,num_iters):\n",
    "    m = X.shape[0]\n",
    "    n = X.shape[1]-1\n",
    "    cost = [].copy()\n",
    "    hypo = hypothesis(theta,X)\n",
    "    for i in range(num_iters):\n",
    "        theta = update(theta,alpha,m,n,hypo,X,y)\n",
    "        hypo = hypothesis(theta,X)\n",
    "        cost.append(cost_function(hypo,y))\n",
    "    return cost, theta"
   ]
  },
  {
   "cell_type": "code",
   "execution_count": 9,
   "metadata": {},
   "outputs": [],
   "source": [
    "def linear_regression_fit_predict(X, y, alpha, num_iters):\n",
    "    n = X.shape[1]\n",
    "    one_column = np.ones((X.shape[0],1))\n",
    "    X = np.concatenate((one_column, X), axis = 1)\n",
    "    theta = np.zeros(n+1).reshape(n+1,1)\n",
    "    cost, theta = gradient_descent(theta,alpha,X,y,num_iters)\n",
    "    predictions = hypothesis(theta,X)\n",
    "    return cost, theta, predictions"
   ]
  },
  {
   "cell_type": "code",
   "execution_count": 10,
   "metadata": {},
   "outputs": [],
   "source": [
    "X_train_togo = x_train.reshape(len(x_train),1)\n",
    "y_train_togo = y_train.reshape(len(y_train),1)\n",
    "\n",
    "costs,theta,y_train_predicted = linear_regression_fit_predict(X_train_togo,y_train_togo,0.01,10000)"
   ]
  },
  {
   "cell_type": "markdown",
   "metadata": {},
   "source": [
    "## Cost (Error) over the iterations plot"
   ]
  },
  {
   "cell_type": "code",
   "execution_count": 11,
   "metadata": {},
   "outputs": [
    {
     "data": {
      "image/png": "[encoded data removed]",
      "text/plain": [
       "<Figure size 432x288 with 1 Axes>"
      ]
     },
     "metadata": {
      "needs_background": "light"
     },
     "output_type": "display_data"
    }
   ],
   "source": [
    "plt.plot(list(range(1,len(costs)+1)), costs)\n",
    "plt.show()"
   ]
  },
  {
   "cell_type": "markdown",
   "metadata": {},
   "source": [
    "## 4.2. Optimal line vs. scatter plot of tratining set"
   ]
  },
  {
   "cell_type": "code",
   "execution_count": 12,
   "metadata": {},
   "outputs": [
    {
     "data": {
      "image/png": "[encoded data removed]",
      "text/plain": [
       "<Figure size 432x288 with 1 Axes>"
      ]
     },
     "metadata": {
      "needs_background": "light"
     },
     "output_type": "display_data"
    }
   ],
   "source": [
    "plt.scatter(x=x_train, y=y_train, color='red')\n",
    "plt.plot(x_train,y_train_predicted,color='blue')\n",
    "plt.title(\"Revenue to Population\")\n",
    "plt.xlabel(\"Population\")\n",
    "plt.ylabel(\"Revenue\")\n",
    "plt.show()"
   ]
  },
  {
   "cell_type": "markdown",
   "metadata": {},
   "source": [
    "## 5. Optimal line vs. scatter plot of test set"
   ]
  },
  {
   "cell_type": "code",
   "execution_count": 13,
   "metadata": {},
   "outputs": [],
   "source": [
    "def linear_regression_predict(X,theta):\n",
    "    one_column = np.ones((X.shape[0],1))\n",
    "    X = np.concatenate((one_column, X), axis = 1)\n",
    "    return hypothesis(theta,X)"
   ]
  },
  {
   "cell_type": "code",
   "execution_count": 14,
   "metadata": {},
   "outputs": [
    {
     "data": {
      "image/png": "[encoded data removed]",
      "text/plain": [
       "<Figure size 432x288 with 1 Axes>"
      ]
     },
     "metadata": {
      "needs_background": "light"
     },
     "output_type": "display_data"
    }
   ],
   "source": [
    "X_test_togo = x_test.reshape(len(x_test),1)\n",
    "y_test_togo = y_test.reshape(len(y_test),1)\n",
    "\n",
    "y_test_predicted = linear_regression_predict(X_test_togo,theta)\n",
    "\n",
    "plt.scatter(x=x_test, y=y_test, color='red')\n",
    "plt.plot(x_test,y_test_predicted,color='blue')\n",
    "plt.title(\"Revenue to Population\")\n",
    "plt.xlabel(\"Population\")\n",
    "plt.ylabel(\"Revenue\")\n",
    "plt.show()"
   ]
  },
  {
   "cell_type": "markdown",
   "metadata": {},
   "source": [
    "## 6. MSE of training and test"
   ]
  },
  {
   "cell_type": "code",
   "execution_count": 15,
   "metadata": {},
   "outputs": [],
   "source": [
    "def MSE(X,y,theta):\n",
    "    one_column = np.ones((X.shape[0],1))\n",
    "    X = np.concatenate((one_column, X), axis = 1)\n",
    "    hypo = hypothesis(theta,X)\n",
    "    return 2*cost_function(hypo,y)"
   ]
  },
  {
   "cell_type": "code",
   "execution_count": 16,
   "metadata": {},
   "outputs": [
    {
     "name": "stdout",
     "output_type": "stream",
     "text": [
      "MSE over Training Data:\t8.73518310040897\n",
      "MSE over Test Data:\t9.757675006686275\n"
     ]
    }
   ],
   "source": [
    "train_mse = MSE(X_train_togo,y_train_togo,theta)\n",
    "test_mse = MSE(X_test_togo,y_test_togo,theta)\n",
    "\n",
    "print(\"MSE over Training Data:\\t\"+str(train_mse))\n",
    "print(\"MSE over Test Data:\\t\"+str(test_mse))"
   ]
  },
  {
   "cell_type": "markdown",
   "metadata": {},
   "source": [
    "# Extra:\n",
    "## Linear regression with formulas"
   ]
  },
  {
   "cell_type": "code",
   "execution_count": 17,
   "metadata": {},
   "outputs": [],
   "source": [
    "n = np.size(x_train) \n",
    "x_mean, y_mean = np.mean(x_train), np.mean(y_train) \n",
    "SS_xy = np.sum(y_train*x_train) - n*y_mean*x_mean \n",
    "SS_xx = np.sum(x_train*x_train) - n*x_mean*x_mean \n",
    "slope = SS_xy / SS_xx \n",
    "y_intercept  = y_mean - slope*x_mean"
   ]
  },
  {
   "cell_type": "code",
   "execution_count": 18,
   "metadata": {},
   "outputs": [
    {
     "data": {
      "image/png": "[encoded data removed]",
      "text/plain": [
       "<Figure size 432x288 with 1 Axes>"
      ]
     },
     "metadata": {
      "needs_background": "light"
     },
     "output_type": "display_data"
    }
   ],
   "source": [
    "y_train_predicted = y_intercept + slope*x_train \n",
    "\n",
    "plt.scatter(x=x_train, y=y_train, color='red')\n",
    "plt.plot(x_train,y_train_predicted,color='blue')\n",
    "plt.title(\"Revenue to Population\")\n",
    "plt.xlabel(\"Population\")\n",
    "plt.ylabel(\"Revenue\")\n",
    "plt.show()"
   ]
  },
  {
   "cell_type": "code",
   "execution_count": 19,
   "metadata": {},
   "outputs": [
    {
     "data": {
      "image/png": "[encoded data removed]",
      "text/plain": [
       "<Figure size 432x288 with 1 Axes>"
      ]
     },
     "metadata": {
      "needs_background": "light"
     },
     "output_type": "display_data"
    }
   ],
   "source": [
    "y_test_predicted = y_intercept + slope*x_test\n",
    "\n",
    "plt.scatter(x=x_test, y=y_test, color='red')\n",
    "plt.plot(x_test,y_test_predicted,color='blue')\n",
    "plt.title(\"Revenue to Population\")\n",
    "plt.xlabel(\"Population\")\n",
    "plt.ylabel(\"Revenue\")\n",
    "plt.show()"
   ]
  },
  {
   "cell_type": "code",
   "execution_count": 20,
   "metadata": {},
   "outputs": [
    {
     "name": "stdout",
     "output_type": "stream",
     "text": [
      "MSE over Training Data:\t8.73518310040895\n",
      "MSE over Test Data:\t9.75767508307586\n"
     ]
    }
   ],
   "source": [
    "train_mse = np.square(np.subtract(y_train,y_train_predicted)).mean()\n",
    "test_mse = np.square(np.subtract(y_test,y_test_predicted)).mean()\n",
    "\n",
    "print(\"MSE over Training Data:\\t\"+str(train_mse))\n",
    "print(\"MSE over Test Data:\\t\"+str(test_mse))"
   ]
  }
 ],
 "metadata": {
  "kernelspec": {
   "display_name": "Python 3",
   "language": "python",
   "name": "python3"
  },
  "language_info": {
   "codemirror_mode": {
    "name": "ipython",
    "version": 3
   },
   "file_extension": ".py",
   "mimetype": "text/x-python",
   "name": "python",
   "nbconvert_exporter": "python",
   "pygments_lexer": "ipython3",
   "version": "3.7.7"
  }
 },
 "nbformat": 4,
 "nbformat_minor": 4
}
